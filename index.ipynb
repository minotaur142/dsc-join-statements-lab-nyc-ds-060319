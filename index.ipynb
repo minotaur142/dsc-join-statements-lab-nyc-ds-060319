{
 "cells": [
  {
   "cell_type": "markdown",
   "metadata": {},
   "source": [
    "# Join Statements - Lab\n",
    "\n",
    "## Introduction\n",
    "\n",
    "In this lab, you'll practice your knowledge of join statements, using various types of joins and various methods for specifying the links between them.\n",
    "\n",
    "## Objectives\n",
    "\n",
    "You will be able to:\n",
    "- Write queries that make use of various types of Joins\n",
    "- Join tables using foreign keys"
   ]
  },
  {
   "cell_type": "markdown",
   "metadata": {},
   "source": [
    "## CRM Schema\n",
    "\n",
    "In almost all cases, rather then just working with a single table you will typically need data from multiple tables. \n",
    "Doing this requires the use of **joins ** using shared columns from the two tables. \n",
    "\n",
    "In this lab, you'll use the same Customer Relationship Management (CRM) database that you saw from the previous lesson.\n",
    "<img src='images/Database-Schema.png' width=\"600\">"
   ]
  },
  {
   "cell_type": "markdown",
   "metadata": {},
   "source": [
    "## Connecting to the Database\n",
    "Import the necessary packages and connect to the database **data.sqlite**."
   ]
  },
  {
   "cell_type": "code",
   "execution_count": null,
   "metadata": {},
   "outputs": [],
   "source": [
    "import pandas as pd\n",
    "import sqlite3\n",
    "conn = sqlite3.connect('data.sqlite', detect_types=sqlite3.PARSE_COLNAMES)\n",
    "c = conn.cursor()"
   ]
  },
  {
   "cell_type": "markdown",
   "metadata": {},
   "source": [
    "## Display the names of all the employees in Boston.\n",
    "Hint: join the employees and offices tables."
   ]
  },
  {
   "cell_type": "code",
   "execution_count": 2,
   "metadata": {},
   "outputs": [
    {
     "data": {
      "text/plain": [
       "[]"
      ]
     },
     "execution_count": 2,
     "metadata": {},
     "output_type": "execute_result"
    }
   ],
   "source": [
    "c.execute(\"\"\"SELECT COUNT(employeeNumber), city \n",
    "                FROM offices\n",
    "                LEFT JOIN employees\n",
    "                USING(officeCode)\n",
    "                GROUP BY offices.city\n",
    "                HAVING COUNT(employeeNumber) = 0\"\"\").fetchall()\n",
    "                "
   ]
  },
  {
   "cell_type": "markdown",
   "metadata": {},
   "source": [
    "## Do any offices have no employees?\n",
    "Hint: Combine the employees and offices tables and use a group by."
   ]
  },
  {
   "cell_type": "code",
   "execution_count": null,
   "metadata": {},
   "outputs": [],
   "source": [
    "c.execute(\"\"\"SELECT IS NULL \"\"\")"
   ]
  },
  {
   "cell_type": "markdown",
   "metadata": {},
   "source": [
    "## Write 3 Questions of your own and answer them"
   ]
  },
  {
   "cell_type": "code",
   "execution_count": null,
   "metadata": {},
   "outputs": [],
   "source": [
    "# Answers will vary"
   ]
  },
  {
   "cell_type": "code",
   "execution_count": null,
   "metadata": {},
   "outputs": [],
   "source": [
    "# Your code here"
   ]
  },
  {
   "cell_type": "code",
   "execution_count": null,
   "metadata": {},
   "outputs": [],
   "source": [
    "# Your code here"
   ]
  },
  {
   "cell_type": "code",
   "execution_count": null,
   "metadata": {},
   "outputs": [],
   "source": [
    "# Your code here"
   ]
  },
  {
   "cell_type": "markdown",
   "metadata": {},
   "source": [
    "## Level Up: Display the names of each product each employee has sold"
   ]
  },
  {
   "cell_type": "code",
   "execution_count": 6,
   "metadata": {},
   "outputs": [
    {
     "data": {
      "text/plain": [
       "[('Min Lin Diecast',),\n",
       " ('Classic Metal Creations',),\n",
       " ('Highway 66 Mini Classics',),\n",
       " ('Red Start Diecast',),\n",
       " ('Motor City Art Classics',),\n",
       " ('Second Gear Diecast',),\n",
       " ('Autoart Studio Design',),\n",
       " ('Second Gear Diecast',),\n",
       " ('Welly Diecast Productions',),\n",
       " ('Unimax Art Galleries',),\n",
       " ('Welly Diecast Productions',),\n",
       " ('Welly Diecast Productions',),\n",
       " ('Second Gear Diecast',),\n",
       " ('Studio M Art Models',),\n",
       " ('Exoto Designs',),\n",
       " ('Welly Diecast Productions',),\n",
       " ('Studio M Art Models',),\n",
       " ('Highway 66 Mini Classics',),\n",
       " ('Motor City Art Classics',),\n",
       " ('Studio M Art Models',),\n",
       " ('Classic Metal Creations',),\n",
       " ('Red Start Diecast',),\n",
       " ('Welly Diecast Productions',),\n",
       " ('Gearbox Collectibles',),\n",
       " ('Min Lin Diecast',),\n",
       " ('Gearbox Collectibles',),\n",
       " ('Motor City Art Classics',),\n",
       " ('Unimax Art Galleries',),\n",
       " ('Autoart Studio Design',),\n",
       " ('Carousel DieCast Legends',),\n",
       " ('Gearbox Collectibles',),\n",
       " ('Welly Diecast Productions',),\n",
       " ('Gearbox Collectibles',),\n",
       " ('Red Start Diecast',),\n",
       " ('Carousel DieCast Legends',),\n",
       " ('Min Lin Diecast',),\n",
       " ('Min Lin Diecast',),\n",
       " ('Red Start Diecast',),\n",
       " ('Unimax Art Galleries',),\n",
       " ('Unimax Art Galleries',),\n",
       " ('Highway 66 Mini Classics',),\n",
       " ('Carousel DieCast Legends',),\n",
       " ('Min Lin Diecast',),\n",
       " ('Exoto Designs',),\n",
       " ('Gearbox Collectibles',),\n",
       " ('Gearbox Collectibles',),\n",
       " ('Studio M Art Models',),\n",
       " ('Exoto Designs',),\n",
       " ('Min Lin Diecast',),\n",
       " ('Exoto Designs',),\n",
       " ('Exoto Designs',),\n",
       " ('Motor City Art Classics',),\n",
       " ('Studio M Art Models',),\n",
       " ('Classic Metal Creations',),\n",
       " ('Studio M Art Models',),\n",
       " ('Unimax Art Galleries',),\n",
       " ('Highway 66 Mini Classics',),\n",
       " ('Autoart Studio Design',),\n",
       " ('Carousel DieCast Legends',),\n",
       " ('Classic Metal Creations',),\n",
       " ('Motor City Art Classics',),\n",
       " ('Highway 66 Mini Classics',),\n",
       " ('Carousel DieCast Legends',),\n",
       " ('Classic Metal Creations',),\n",
       " ('Autoart Studio Design',),\n",
       " ('Highway 66 Mini Classics',),\n",
       " ('Classic Metal Creations',),\n",
       " ('Carousel DieCast Legends',),\n",
       " ('Autoart Studio Design',),\n",
       " ('Exoto Designs',),\n",
       " ('Second Gear Diecast',),\n",
       " ('Min Lin Diecast',),\n",
       " ('Exoto Designs',),\n",
       " ('Welly Diecast Productions',),\n",
       " ('Autoart Studio Design',),\n",
       " ('Gearbox Collectibles',),\n",
       " ('Carousel DieCast Legends',),\n",
       " ('Classic Metal Creations',),\n",
       " ('Second Gear Diecast',),\n",
       " ('Red Start Diecast',),\n",
       " ('Exoto Designs',),\n",
       " ('Second Gear Diecast',),\n",
       " ('Unimax Art Galleries',),\n",
       " ('Classic Metal Creations',),\n",
       " ('Motor City Art Classics',),\n",
       " ('Exoto Designs',),\n",
       " ('Gearbox Collectibles',),\n",
       " ('Classic Metal Creations',),\n",
       " ('Gearbox Collectibles',),\n",
       " ('Red Start Diecast',),\n",
       " ('Highway 66 Mini Classics',),\n",
       " ('Second Gear Diecast',),\n",
       " ('Studio M Art Models',),\n",
       " ('Highway 66 Mini Classics',),\n",
       " ('Classic Metal Creations',),\n",
       " ('Autoart Studio Design',),\n",
       " ('Autoart Studio Design',),\n",
       " ('Min Lin Diecast',),\n",
       " ('Studio M Art Models',),\n",
       " ('Unimax Art Galleries',),\n",
       " ('Motor City Art Classics',),\n",
       " ('Red Start Diecast',),\n",
       " ('Carousel DieCast Legends',),\n",
       " ('Highway 66 Mini Classics',),\n",
       " ('Motor City Art Classics',),\n",
       " ('Carousel DieCast Legends',),\n",
       " ('Welly Diecast Productions',),\n",
       " ('Second Gear Diecast',),\n",
       " ('Motor City Art Classics',),\n",
       " ('Unimax Art Galleries',)]"
      ]
     },
     "execution_count": 6,
     "metadata": {},
     "output_type": "execute_result"
    }
   ],
   "source": [
    "c.execute(\"\"\"SELECT productName, employeeNumber FROM products LEFT JOIN orderdetails USING(productCode) LEFT JOIN orders \n",
    "        USING(customerNumber) LEFT JOIN customers USING \"\"\").fetchall()"
   ]
  },
  {
   "cell_type": "markdown",
   "metadata": {},
   "source": [
    "## Level Up: Display the Number of Products each employee has sold"
   ]
  },
  {
   "cell_type": "code",
   "execution_count": null,
   "metadata": {},
   "outputs": [],
   "source": [
    "#Your code here"
   ]
  },
  {
   "cell_type": "markdown",
   "metadata": {},
   "source": [
    "## Summary"
   ]
  },
  {
   "cell_type": "markdown",
   "metadata": {},
   "source": [
    "Congrats! You now know how to use join statements, along with leveraging your foreign keys knowledge!"
   ]
  }
 ],
 "metadata": {
  "kernelspec": {
   "display_name": "Python 3",
   "language": "python",
   "name": "python3"
  },
  "language_info": {
   "codemirror_mode": {
    "name": "ipython",
    "version": 3
   },
   "file_extension": ".py",
   "mimetype": "text/x-python",
   "name": "python",
   "nbconvert_exporter": "python",
   "pygments_lexer": "ipython3",
   "version": "3.6.6"
  }
 },
 "nbformat": 4,
 "nbformat_minor": 2
}
